{
 "cells": [
  {
   "cell_type": "code",
   "execution_count": 1,
   "metadata": {},
   "outputs": [],
   "source": [
    "import pandas as pd\n",
    "import numpy as np\n",
    "from typing import *"
   ]
  },
  {
   "cell_type": "code",
   "execution_count": 2,
   "metadata": {},
   "outputs": [],
   "source": [
    "true_df = pd.read_csv(\"./Joseph_Dataset/cropped_rcnn_annotations.csv\")\n",
    "false_df = pd.read_csv(\"./Joseph_Dataset/incorrect_rcnn_preds.csv\")\n",
    "df = pd.concat([true_df, false_df], sort=False)\n",
    "labels = np.concatenate([np.ones([len(true_df)]), np.zeros([len(false_df)])])"
   ]
  },
  {
   "cell_type": "code",
   "execution_count": 3,
   "metadata": {},
   "outputs": [
    {
     "name": "stderr",
     "output_type": "stream",
     "text": [
      "Using TensorFlow backend.\n"
     ]
    }
   ],
   "source": [
    "from keras.layers import Dense, BatchNormalization\n",
    "from keras.layers.recurrent import GRU\n",
    "from keras.models import Sequential"
   ]
  },
  {
   "cell_type": "code",
   "execution_count": 4,
   "metadata": {},
   "outputs": [],
   "source": [
    "input_data = np.stack((\n",
    "    df['xmin'], df['xmax'], df['ymin'], df['ymax'],\n",
    "    df['xmax'] - df['xmin'],\n",
    "    df['ymax'] - df['ymin'],\n",
    "    df['confidence']\n",
    "), axis=-1)\n",
    "\n",
    "np.random.seed(1234)\n",
    "indices = np.random.randint(len(df), size=len(df))\n",
    "input_data = input_data[indices]\n",
    "labels = labels[indices]"
   ]
  },
  {
   "cell_type": "code",
   "execution_count": 67,
   "metadata": {},
   "outputs": [],
   "source": [
    "LOSS_BIAS = 0.9\n",
    "from keras import backend as K\n",
    "\n",
    "def weighted_log_loss(yt, yp) -> Any:\n",
    "    \"\"\"\n",
    "    Binary crossentropy with a bias towards false negatives\n",
    "    yt: Target\n",
    "    yp: Prediction\n",
    "    \"\"\"\n",
    "    from keras import backend as K\n",
    "\n",
    "    pos_loss = -(0 + yt) * K.log(0 + yp + K.epsilon())\n",
    "    neg_loss = -(1 - yt) * K.log(1 - yp + K.epsilon())\n",
    "\n",
    "    return LOSS_BIAS * K.mean(neg_loss) + (1. - LOSS_BIAS) * K.mean(pos_loss)\n",
    "\n",
    "\n",
    "def false_pos(yt, yp) -> Any:\n",
    "    from keras import backend as K\n",
    "    return K.sum(K.cast(yp * (1 - yt) > 0.5, 'float')) / K.maximum(1.0, K.sum(1 - yt))\n",
    "\n",
    "\n",
    "def false_neg(yt, yp) -> Any:\n",
    "    from keras import backend as K\n",
    "    return K.sum(K.cast((1 - yp) * (0 + yt) > 0.5, 'float')) / K.maximum(1.0, K.sum(0 + yt))\n",
    "\n",
    "def threshold_binary_accuracy(y_true, y_pred):\n",
    "    threshold = 0.5\n",
    "    return K.mean(K.equal(y_true, K.cast(y_pred>threshold, 'float')))"
   ]
  },
  {
   "cell_type": "code",
   "execution_count": 48,
   "metadata": {},
   "outputs": [],
   "source": [
    "model = Sequential()\n",
    "model.add(Dense(40, input_shape=(input_data.shape[1],), activation='sigmoid'))\n",
    "model.add(Dense(40, activation='sigmoid'))\n",
    "model.add(Dense(1, activation='sigmoid'))\n",
    "model.compile('rmsprop', 'mse', metrics=['acc', threshold_binary_accuracy, false_pos, false_neg])"
   ]
  },
  {
   "cell_type": "code",
   "execution_count": 49,
   "metadata": {},
   "outputs": [],
   "source": [
    "train_ratio = 0.8\n",
    "train_split = int(len(input_data) * train_ratio)\n",
    "train_in = input_data[:train_split]\n",
    "train_out = labels[:train_split]\n",
    "test_in = input_data[train_split:]\n",
    "test_out = labels[train_split:]"
   ]
  },
  {
   "cell_type": "code",
   "execution_count": 50,
   "metadata": {},
   "outputs": [
    {
     "name": "stdout",
     "output_type": "stream",
     "text": [
      "Train on 50073 samples, validate on 12519 samples\n",
      "Epoch 1/100\n",
      "37632/50073 [=====================>........] - ETA: 0s - loss: 0.2000 - acc: 0.6951 - threshold_binary_accuracy: 0.5849 - false_pos: 0.9253 - false_neg: 0.0211"
     ]
    },
    {
     "ename": "KeyboardInterrupt",
     "evalue": "",
     "output_type": "error",
     "traceback": [
      "\u001b[0;31m---------------------------------------------------------------------------\u001b[0m",
      "\u001b[0;31mKeyboardInterrupt\u001b[0m                         Traceback (most recent call last)",
      "\u001b[0;32m<ipython-input-50-e51607b56dc1>\u001b[0m in \u001b[0;36m<module>\u001b[0;34m\u001b[0m\n\u001b[0;32m----> 1\u001b[0;31m \u001b[0mmodel\u001b[0m\u001b[0;34m.\u001b[0m\u001b[0mfit\u001b[0m\u001b[0;34m(\u001b[0m\u001b[0mtrain_in\u001b[0m\u001b[0;34m,\u001b[0m \u001b[0mtrain_out\u001b[0m\u001b[0;34m,\u001b[0m \u001b[0;36m64\u001b[0m\u001b[0;34m,\u001b[0m \u001b[0;36m100\u001b[0m\u001b[0;34m,\u001b[0m \u001b[0mvalidation_data\u001b[0m\u001b[0;34m=\u001b[0m\u001b[0;34m(\u001b[0m\u001b[0mtest_in\u001b[0m\u001b[0;34m,\u001b[0m \u001b[0mtest_out\u001b[0m\u001b[0;34m)\u001b[0m\u001b[0;34m)\u001b[0m\u001b[0;34m\u001b[0m\u001b[0;34m\u001b[0m\u001b[0m\n\u001b[0m",
      "\u001b[0;32m~/.local/lib/python3.7/site-packages/keras/engine/training.py\u001b[0m in \u001b[0;36mfit\u001b[0;34m(self, x, y, batch_size, epochs, verbose, callbacks, validation_split, validation_data, shuffle, class_weight, sample_weight, initial_epoch, steps_per_epoch, validation_steps, **kwargs)\u001b[0m\n\u001b[1;32m   1037\u001b[0m                                         \u001b[0minitial_epoch\u001b[0m\u001b[0;34m=\u001b[0m\u001b[0minitial_epoch\u001b[0m\u001b[0;34m,\u001b[0m\u001b[0;34m\u001b[0m\u001b[0;34m\u001b[0m\u001b[0m\n\u001b[1;32m   1038\u001b[0m                                         \u001b[0msteps_per_epoch\u001b[0m\u001b[0;34m=\u001b[0m\u001b[0msteps_per_epoch\u001b[0m\u001b[0;34m,\u001b[0m\u001b[0;34m\u001b[0m\u001b[0;34m\u001b[0m\u001b[0m\n\u001b[0;32m-> 1039\u001b[0;31m                                         validation_steps=validation_steps)\n\u001b[0m\u001b[1;32m   1040\u001b[0m \u001b[0;34m\u001b[0m\u001b[0m\n\u001b[1;32m   1041\u001b[0m     def evaluate(self, x=None, y=None,\n",
      "\u001b[0;32m~/.local/lib/python3.7/site-packages/keras/engine/training_arrays.py\u001b[0m in \u001b[0;36mfit_loop\u001b[0;34m(model, f, ins, out_labels, batch_size, epochs, verbose, callbacks, val_f, val_ins, shuffle, callback_metrics, initial_epoch, steps_per_epoch, validation_steps)\u001b[0m\n\u001b[1;32m    197\u001b[0m                     \u001b[0mins_batch\u001b[0m\u001b[0;34m[\u001b[0m\u001b[0mi\u001b[0m\u001b[0;34m]\u001b[0m \u001b[0;34m=\u001b[0m \u001b[0mins_batch\u001b[0m\u001b[0;34m[\u001b[0m\u001b[0mi\u001b[0m\u001b[0;34m]\u001b[0m\u001b[0;34m.\u001b[0m\u001b[0mtoarray\u001b[0m\u001b[0;34m(\u001b[0m\u001b[0;34m)\u001b[0m\u001b[0;34m\u001b[0m\u001b[0;34m\u001b[0m\u001b[0m\n\u001b[1;32m    198\u001b[0m \u001b[0;34m\u001b[0m\u001b[0m\n\u001b[0;32m--> 199\u001b[0;31m                 \u001b[0mouts\u001b[0m \u001b[0;34m=\u001b[0m \u001b[0mf\u001b[0m\u001b[0;34m(\u001b[0m\u001b[0mins_batch\u001b[0m\u001b[0;34m)\u001b[0m\u001b[0;34m\u001b[0m\u001b[0;34m\u001b[0m\u001b[0m\n\u001b[0m\u001b[1;32m    200\u001b[0m                 \u001b[0mouts\u001b[0m \u001b[0;34m=\u001b[0m \u001b[0mto_list\u001b[0m\u001b[0;34m(\u001b[0m\u001b[0mouts\u001b[0m\u001b[0;34m)\u001b[0m\u001b[0;34m\u001b[0m\u001b[0;34m\u001b[0m\u001b[0m\n\u001b[1;32m    201\u001b[0m                 \u001b[0;32mfor\u001b[0m \u001b[0ml\u001b[0m\u001b[0;34m,\u001b[0m \u001b[0mo\u001b[0m \u001b[0;32min\u001b[0m \u001b[0mzip\u001b[0m\u001b[0;34m(\u001b[0m\u001b[0mout_labels\u001b[0m\u001b[0;34m,\u001b[0m \u001b[0mouts\u001b[0m\u001b[0;34m)\u001b[0m\u001b[0;34m:\u001b[0m\u001b[0;34m\u001b[0m\u001b[0;34m\u001b[0m\u001b[0m\n",
      "\u001b[0;32m~/.local/lib/python3.7/site-packages/keras/backend/tensorflow_backend.py\u001b[0m in \u001b[0;36m__call__\u001b[0;34m(self, inputs)\u001b[0m\n\u001b[1;32m   2713\u001b[0m                 \u001b[0;32mreturn\u001b[0m \u001b[0mself\u001b[0m\u001b[0;34m.\u001b[0m\u001b[0m_legacy_call\u001b[0m\u001b[0;34m(\u001b[0m\u001b[0minputs\u001b[0m\u001b[0;34m)\u001b[0m\u001b[0;34m\u001b[0m\u001b[0;34m\u001b[0m\u001b[0m\n\u001b[1;32m   2714\u001b[0m \u001b[0;34m\u001b[0m\u001b[0m\n\u001b[0;32m-> 2715\u001b[0;31m             \u001b[0;32mreturn\u001b[0m \u001b[0mself\u001b[0m\u001b[0;34m.\u001b[0m\u001b[0m_call\u001b[0m\u001b[0;34m(\u001b[0m\u001b[0minputs\u001b[0m\u001b[0;34m)\u001b[0m\u001b[0;34m\u001b[0m\u001b[0;34m\u001b[0m\u001b[0m\n\u001b[0m\u001b[1;32m   2716\u001b[0m         \u001b[0;32melse\u001b[0m\u001b[0;34m:\u001b[0m\u001b[0;34m\u001b[0m\u001b[0;34m\u001b[0m\u001b[0m\n\u001b[1;32m   2717\u001b[0m             \u001b[0;32mif\u001b[0m \u001b[0mpy_any\u001b[0m\u001b[0;34m(\u001b[0m\u001b[0mis_tensor\u001b[0m\u001b[0;34m(\u001b[0m\u001b[0mx\u001b[0m\u001b[0;34m)\u001b[0m \u001b[0;32mfor\u001b[0m \u001b[0mx\u001b[0m \u001b[0;32min\u001b[0m \u001b[0minputs\u001b[0m\u001b[0;34m)\u001b[0m\u001b[0;34m:\u001b[0m\u001b[0;34m\u001b[0m\u001b[0;34m\u001b[0m\u001b[0m\n",
      "\u001b[0;32m~/.local/lib/python3.7/site-packages/keras/backend/tensorflow_backend.py\u001b[0m in \u001b[0;36m_call\u001b[0;34m(self, inputs)\u001b[0m\n\u001b[1;32m   2673\u001b[0m             \u001b[0mfetched\u001b[0m \u001b[0;34m=\u001b[0m \u001b[0mself\u001b[0m\u001b[0;34m.\u001b[0m\u001b[0m_callable_fn\u001b[0m\u001b[0;34m(\u001b[0m\u001b[0;34m*\u001b[0m\u001b[0marray_vals\u001b[0m\u001b[0;34m,\u001b[0m \u001b[0mrun_metadata\u001b[0m\u001b[0;34m=\u001b[0m\u001b[0mself\u001b[0m\u001b[0;34m.\u001b[0m\u001b[0mrun_metadata\u001b[0m\u001b[0;34m)\u001b[0m\u001b[0;34m\u001b[0m\u001b[0;34m\u001b[0m\u001b[0m\n\u001b[1;32m   2674\u001b[0m         \u001b[0;32melse\u001b[0m\u001b[0;34m:\u001b[0m\u001b[0;34m\u001b[0m\u001b[0;34m\u001b[0m\u001b[0m\n\u001b[0;32m-> 2675\u001b[0;31m             \u001b[0mfetched\u001b[0m \u001b[0;34m=\u001b[0m \u001b[0mself\u001b[0m\u001b[0;34m.\u001b[0m\u001b[0m_callable_fn\u001b[0m\u001b[0;34m(\u001b[0m\u001b[0;34m*\u001b[0m\u001b[0marray_vals\u001b[0m\u001b[0;34m)\u001b[0m\u001b[0;34m\u001b[0m\u001b[0;34m\u001b[0m\u001b[0m\n\u001b[0m\u001b[1;32m   2676\u001b[0m         \u001b[0;32mreturn\u001b[0m \u001b[0mfetched\u001b[0m\u001b[0;34m[\u001b[0m\u001b[0;34m:\u001b[0m\u001b[0mlen\u001b[0m\u001b[0;34m(\u001b[0m\u001b[0mself\u001b[0m\u001b[0;34m.\u001b[0m\u001b[0moutputs\u001b[0m\u001b[0;34m)\u001b[0m\u001b[0;34m]\u001b[0m\u001b[0;34m\u001b[0m\u001b[0;34m\u001b[0m\u001b[0m\n\u001b[1;32m   2677\u001b[0m \u001b[0;34m\u001b[0m\u001b[0m\n",
      "\u001b[0;32m~/.local/lib/python3.7/site-packages/tensorflow/python/client/session.py\u001b[0m in \u001b[0;36m__call__\u001b[0;34m(self, *args, **kwargs)\u001b[0m\n\u001b[1;32m   1456\u001b[0m         ret = tf_session.TF_SessionRunCallable(self._session._session,\n\u001b[1;32m   1457\u001b[0m                                                \u001b[0mself\u001b[0m\u001b[0;34m.\u001b[0m\u001b[0m_handle\u001b[0m\u001b[0;34m,\u001b[0m \u001b[0margs\u001b[0m\u001b[0;34m,\u001b[0m\u001b[0;34m\u001b[0m\u001b[0;34m\u001b[0m\u001b[0m\n\u001b[0;32m-> 1458\u001b[0;31m                                                run_metadata_ptr)\n\u001b[0m\u001b[1;32m   1459\u001b[0m         \u001b[0;32mif\u001b[0m \u001b[0mrun_metadata\u001b[0m\u001b[0;34m:\u001b[0m\u001b[0;34m\u001b[0m\u001b[0;34m\u001b[0m\u001b[0m\n\u001b[1;32m   1460\u001b[0m           \u001b[0mproto_data\u001b[0m \u001b[0;34m=\u001b[0m \u001b[0mtf_session\u001b[0m\u001b[0;34m.\u001b[0m\u001b[0mTF_GetBuffer\u001b[0m\u001b[0;34m(\u001b[0m\u001b[0mrun_metadata_ptr\u001b[0m\u001b[0;34m)\u001b[0m\u001b[0;34m\u001b[0m\u001b[0;34m\u001b[0m\u001b[0m\n",
      "\u001b[0;31mKeyboardInterrupt\u001b[0m: "
     ]
    }
   ],
   "source": [
    "model.fit(train_in, train_out, 64, 100, validation_data=(test_in, test_out))"
   ]
  },
  {
   "cell_type": "code",
   "execution_count": 68,
   "metadata": {},
   "outputs": [],
   "source": [
    "model2 = Sequential()\n",
    "model2.add(BatchNormalization(input_shape=(input_data.shape[1],)))\n",
    "model2.add(Dense(40, activation='relu'))\n",
    "model2.add(Dense(40, activation='relu'))\n",
    "model2.add(Dense(1, activation='sigmoid'))\n",
    "class_weight = {0: 0.3,\n",
    "                1: 0.7,\n",
    "                }\n",
    "model2.compile('rmsprop', 'mse',  metrics=['acc', threshold_binary_accuracy, false_pos, false_neg])"
   ]
  },
  {
   "cell_type": "code",
   "execution_count": null,
   "metadata": {},
   "outputs": [
    {
     "name": "stdout",
     "output_type": "stream",
     "text": [
      "Train on 50073 samples, validate on 12519 samples\n",
      "Epoch 1/100\n",
      "50073/50073 [==============================] - 4s 82us/step - loss: 0.0620 - acc: 0.7386 - threshold_binary_accuracy: 0.7386 - false_pos: 0.7399 - false_neg: 0.0377 - val_loss: 0.1482 - val_acc: 0.7785 - val_threshold_binary_accuracy: 0.7785 - val_false_pos: 0.5777 - val_false_neg: 0.0592\n",
      "Epoch 2/100\n",
      "50073/50073 [==============================] - 3s 63us/step - loss: 0.0581 - acc: 0.7548 - threshold_binary_accuracy: 0.7548 - false_pos: 0.6838 - false_neg: 0.0397 - val_loss: 0.1609 - val_acc: 0.7380 - val_threshold_binary_accuracy: 0.7380 - val_false_pos: 0.8059 - val_false_neg: 0.0132\n",
      "Epoch 3/100\n",
      "50073/50073 [==============================] - 3s 64us/step - loss: 0.0576 - acc: 0.7559 - threshold_binary_accuracy: 0.7559 - false_pos: 0.6803 - false_neg: 0.0399 - val_loss: 0.1517 - val_acc: 0.7667 - val_threshold_binary_accuracy: 0.7667 - val_false_pos: 0.6401 - val_false_neg: 0.0479\n",
      "Epoch 4/100\n",
      "50073/50073 [==============================] - 3s 63us/step - loss: 0.0574 - acc: 0.7580 - threshold_binary_accuracy: 0.7580 - false_pos: 0.6791 - false_neg: 0.0383 - val_loss: 0.1565 - val_acc: 0.7576 - val_threshold_binary_accuracy: 0.7576 - val_false_pos: 0.7056 - val_false_neg: 0.0312\n",
      "Epoch 5/100\n",
      "50073/50073 [==============================] - 3s 63us/step - loss: 0.0572 - acc: 0.7581 - threshold_binary_accuracy: 0.7581 - false_pos: 0.6746 - false_neg: 0.0396 - val_loss: 0.1558 - val_acc: 0.7573 - val_threshold_binary_accuracy: 0.7573 - val_false_pos: 0.7087 - val_false_neg: 0.0298\n",
      "Epoch 6/100\n",
      "50073/50073 [==============================] - 3s 62us/step - loss: 0.0571 - acc: 0.7593 - threshold_binary_accuracy: 0.7593 - false_pos: 0.6664 - false_neg: 0.0417 - val_loss: 0.1555 - val_acc: 0.7579 - val_threshold_binary_accuracy: 0.7579 - val_false_pos: 0.7097 - val_false_neg: 0.0282\n",
      "Epoch 7/100\n",
      "50073/50073 [==============================] - 3s 63us/step - loss: 0.0570 - acc: 0.7593 - threshold_binary_accuracy: 0.7593 - false_pos: 0.6641 - false_neg: 0.0421 - val_loss: 0.1495 - val_acc: 0.7676 - val_threshold_binary_accuracy: 0.7676 - val_false_pos: 0.6510 - val_false_neg: 0.0413\n",
      "Epoch 8/100\n",
      "50073/50073 [==============================] - 4s 73us/step - loss: 0.0568 - acc: 0.7629 - threshold_binary_accuracy: 0.7629 - false_pos: 0.6565 - false_neg: 0.0408 - val_loss: 0.1569 - val_acc: 0.7521 - val_threshold_binary_accuracy: 0.7521 - val_false_pos: 0.7350 - val_false_neg: 0.0246\n",
      "Epoch 9/100\n",
      "50073/50073 [==============================] - 3s 70us/step - loss: 0.0569 - acc: 0.7605 - threshold_binary_accuracy: 0.7605 - false_pos: 0.6652 - false_neg: 0.0403 - val_loss: 0.1523 - val_acc: 0.7601 - val_threshold_binary_accuracy: 0.7601 - val_false_pos: 0.6949 - val_false_neg: 0.0323\n",
      "Epoch 10/100\n",
      "50073/50073 [==============================] - 4s 71us/step - loss: 0.0568 - acc: 0.7618 - threshold_binary_accuracy: 0.7618 - false_pos: 0.6592 - false_neg: 0.0415 - val_loss: 0.1496 - val_acc: 0.7738 - val_threshold_binary_accuracy: 0.7738 - val_false_pos: 0.6301 - val_false_neg: 0.0419\n",
      "Epoch 11/100\n",
      "50073/50073 [==============================] - 4s 71us/step - loss: 0.0566 - acc: 0.7628 - threshold_binary_accuracy: 0.7628 - false_pos: 0.6553 - false_neg: 0.0422 - val_loss: 0.1422 - val_acc: 0.7854 - val_threshold_binary_accuracy: 0.7854 - val_false_pos: 0.5348 - val_false_neg: 0.0686\n",
      "Epoch 12/100\n",
      "50073/50073 [==============================] - 4s 73us/step - loss: 0.0568 - acc: 0.7616 - threshold_binary_accuracy: 0.7616 - false_pos: 0.6591 - false_neg: 0.0415 - val_loss: 0.1518 - val_acc: 0.7615 - val_threshold_binary_accuracy: 0.7615 - val_false_pos: 0.6935 - val_false_neg: 0.0307\n",
      "Epoch 13/100\n",
      "50073/50073 [==============================] - 4s 73us/step - loss: 0.0566 - acc: 0.7620 - threshold_binary_accuracy: 0.7620 - false_pos: 0.6599 - false_neg: 0.0412 - val_loss: 0.1593 - val_acc: 0.7456 - val_threshold_binary_accuracy: 0.7456 - val_false_pos: 0.7737 - val_false_neg: 0.0169\n",
      "Epoch 14/100\n",
      "50073/50073 [==============================] - 3s 69us/step - loss: 0.0565 - acc: 0.7624 - threshold_binary_accuracy: 0.7624 - false_pos: 0.6587 - false_neg: 0.0413 - val_loss: 0.1555 - val_acc: 0.7602 - val_threshold_binary_accuracy: 0.7602 - val_false_pos: 0.7049 - val_false_neg: 0.0275\n",
      "Epoch 15/100\n",
      "50073/50073 [==============================] - 4s 71us/step - loss: 0.0565 - acc: 0.7634 - threshold_binary_accuracy: 0.7634 - false_pos: 0.6532 - false_neg: 0.0416 - val_loss: 0.1549 - val_acc: 0.7563 - val_threshold_binary_accuracy: 0.7563 - val_false_pos: 0.7232 - val_false_neg: 0.0248\n",
      "Epoch 16/100\n",
      "50073/50073 [==============================] - 4s 72us/step - loss: 0.0563 - acc: 0.7654 - threshold_binary_accuracy: 0.7654 - false_pos: 0.6476 - false_neg: 0.0417 - val_loss: 0.1535 - val_acc: 0.7650 - val_threshold_binary_accuracy: 0.7650 - val_false_pos: 0.6828 - val_false_neg: 0.0305\n",
      "Epoch 17/100\n",
      "50073/50073 [==============================] - 4s 72us/step - loss: 0.0565 - acc: 0.7640 - threshold_binary_accuracy: 0.7640 - false_pos: 0.6527 - false_neg: 0.0410 - val_loss: 0.1470 - val_acc: 0.7728 - val_threshold_binary_accuracy: 0.7728 - val_false_pos: 0.6295 - val_false_neg: 0.0432\n",
      "Epoch 18/100\n",
      "50073/50073 [==============================] - 4s 75us/step - loss: 0.0565 - acc: 0.7640 - threshold_binary_accuracy: 0.7640 - false_pos: 0.6521 - false_neg: 0.0407 - val_loss: 0.1569 - val_acc: 0.7553 - val_threshold_binary_accuracy: 0.7553 - val_false_pos: 0.7296 - val_false_neg: 0.0235\n",
      "Epoch 19/100\n",
      "50073/50073 [==============================] - 4s 73us/step - loss: 0.0565 - acc: 0.7645 - threshold_binary_accuracy: 0.7645 - false_pos: 0.6518 - false_neg: 0.0406 - val_loss: 0.1484 - val_acc: 0.7703 - val_threshold_binary_accuracy: 0.7703 - val_false_pos: 0.6501 - val_false_neg: 0.0373\n",
      "Epoch 20/100\n",
      "50073/50073 [==============================] - 4s 73us/step - loss: 0.0564 - acc: 0.7639 - threshold_binary_accuracy: 0.7639 - false_pos: 0.6525 - false_neg: 0.0414 - val_loss: 0.1496 - val_acc: 0.7699 - val_threshold_binary_accuracy: 0.7699 - val_false_pos: 0.6491 - val_false_neg: 0.0388\n",
      "Epoch 21/100\n",
      "50073/50073 [==============================] - 3s 68us/step - loss: 0.0564 - acc: 0.7645 - threshold_binary_accuracy: 0.7645 - false_pos: 0.6481 - false_neg: 0.0421 - val_loss: 0.1535 - val_acc: 0.7612 - val_threshold_binary_accuracy: 0.7612 - val_false_pos: 0.6951 - val_false_neg: 0.0303\n",
      "Epoch 22/100\n",
      "50073/50073 [==============================] - 3s 65us/step - loss: 0.0563 - acc: 0.7637 - threshold_binary_accuracy: 0.7637 - false_pos: 0.6552 - false_neg: 0.0412 - val_loss: 0.1445 - val_acc: 0.7807 - val_threshold_binary_accuracy: 0.7807 - val_false_pos: 0.5807 - val_false_neg: 0.0540\n",
      "Epoch 23/100\n",
      "50073/50073 [==============================] - 3s 69us/step - loss: 0.0564 - acc: 0.7633 - threshold_binary_accuracy: 0.7633 - false_pos: 0.6524 - false_neg: 0.0417 - val_loss: 0.1550 - val_acc: 0.7601 - val_threshold_binary_accuracy: 0.7601 - val_false_pos: 0.7098 - val_false_neg: 0.0250\n",
      "Epoch 24/100\n",
      "50073/50073 [==============================] - 3s 70us/step - loss: 0.0562 - acc: 0.7652 - threshold_binary_accuracy: 0.7652 - false_pos: 0.6461 - false_neg: 0.0413 - val_loss: 0.1484 - val_acc: 0.7743 - val_threshold_binary_accuracy: 0.7743 - val_false_pos: 0.6334 - val_false_neg: 0.0389\n",
      "Epoch 25/100\n",
      "50073/50073 [==============================] - 4s 71us/step - loss: 0.0562 - acc: 0.7645 - threshold_binary_accuracy: 0.7645 - false_pos: 0.6507 - false_neg: 0.0409 - val_loss: 0.1506 - val_acc: 0.7642 - val_threshold_binary_accuracy: 0.7642 - val_false_pos: 0.6846 - val_false_neg: 0.0310\n",
      "Epoch 26/100\n",
      "50073/50073 [==============================] - 3s 68us/step - loss: 0.0562 - acc: 0.7660 - threshold_binary_accuracy: 0.7660 - false_pos: 0.6459 - false_neg: 0.0408 - val_loss: 0.1432 - val_acc: 0.7835 - val_threshold_binary_accuracy: 0.7835 - val_false_pos: 0.5641 - val_false_neg: 0.0579\n",
      "Epoch 27/100\n",
      "50073/50073 [==============================] - 3s 66us/step - loss: 0.0563 - acc: 0.7654 - threshold_binary_accuracy: 0.7654 - false_pos: 0.6464 - false_neg: 0.0421 - val_loss: 0.1539 - val_acc: 0.7641 - val_threshold_binary_accuracy: 0.7641 - val_false_pos: 0.6826 - val_false_neg: 0.0318\n"
     ]
    },
    {
     "name": "stdout",
     "output_type": "stream",
     "text": [
      "Epoch 28/100\n",
      "50073/50073 [==============================] - 3s 64us/step - loss: 0.0562 - acc: 0.7643 - threshold_binary_accuracy: 0.7643 - false_pos: 0.6522 - false_neg: 0.0411 - val_loss: 0.1483 - val_acc: 0.7703 - val_threshold_binary_accuracy: 0.7703 - val_false_pos: 0.6496 - val_false_neg: 0.0380\n",
      "Epoch 29/100\n",
      "50073/50073 [==============================] - 3s 63us/step - loss: 0.0563 - acc: 0.7638 - threshold_binary_accuracy: 0.7638 - false_pos: 0.6516 - false_neg: 0.0411 - val_loss: 0.1539 - val_acc: 0.7596 - val_threshold_binary_accuracy: 0.7596 - val_false_pos: 0.7061 - val_false_neg: 0.0275\n",
      "Epoch 30/100\n",
      "50073/50073 [==============================] - 3s 64us/step - loss: 0.0562 - acc: 0.7645 - threshold_binary_accuracy: 0.7645 - false_pos: 0.6526 - false_neg: 0.0406 - val_loss: 0.1482 - val_acc: 0.7664 - val_threshold_binary_accuracy: 0.7664 - val_false_pos: 0.6712 - val_false_neg: 0.0336\n",
      "Epoch 31/100\n",
      "50073/50073 [==============================] - 3s 63us/step - loss: 0.0563 - acc: 0.7643 - threshold_binary_accuracy: 0.7643 - false_pos: 0.6529 - false_neg: 0.0404 - val_loss: 0.1474 - val_acc: 0.7765 - val_threshold_binary_accuracy: 0.7765 - val_false_pos: 0.6165 - val_false_neg: 0.0439\n",
      "Epoch 32/100\n",
      "50073/50073 [==============================] - 3s 68us/step - loss: 0.0562 - acc: 0.7656 - threshold_binary_accuracy: 0.7656 - false_pos: 0.6466 - false_neg: 0.0414 - val_loss: 0.1481 - val_acc: 0.7685 - val_threshold_binary_accuracy: 0.7685 - val_false_pos: 0.6624 - val_false_neg: 0.0344\n",
      "Epoch 33/100\n",
      "50073/50073 [==============================] - 3s 68us/step - loss: 0.0561 - acc: 0.7652 - threshold_binary_accuracy: 0.7652 - false_pos: 0.6503 - false_neg: 0.0399 - val_loss: 0.1522 - val_acc: 0.7641 - val_threshold_binary_accuracy: 0.7641 - val_false_pos: 0.6843 - val_false_neg: 0.0311\n",
      "Epoch 34/100\n",
      "50073/50073 [==============================] - 3s 63us/step - loss: 0.0563 - acc: 0.7645 - threshold_binary_accuracy: 0.7645 - false_pos: 0.6518 - false_neg: 0.0401 - val_loss: 0.1536 - val_acc: 0.7592 - val_threshold_binary_accuracy: 0.7592 - val_false_pos: 0.7135 - val_false_neg: 0.0244\n",
      "Epoch 35/100\n",
      "50073/50073 [==============================] - 3s 62us/step - loss: 0.0561 - acc: 0.7660 - threshold_binary_accuracy: 0.7660 - false_pos: 0.6461 - false_neg: 0.0410 - val_loss: 0.1529 - val_acc: 0.7592 - val_threshold_binary_accuracy: 0.7592 - val_false_pos: 0.7135 - val_false_neg: 0.0245\n",
      "Epoch 36/100\n",
      "50073/50073 [==============================] - 3s 62us/step - loss: 0.0559 - acc: 0.7668 - threshold_binary_accuracy: 0.7668 - false_pos: 0.6461 - false_neg: 0.0413 - val_loss: 0.1479 - val_acc: 0.7735 - val_threshold_binary_accuracy: 0.7735 - val_false_pos: 0.6330 - val_false_neg: 0.0406\n",
      "Epoch 37/100\n",
      "50073/50073 [==============================] - 3s 68us/step - loss: 0.0559 - acc: 0.7672 - threshold_binary_accuracy: 0.7672 - false_pos: 0.6444 - false_neg: 0.0404 - val_loss: 0.1456 - val_acc: 0.7747 - val_threshold_binary_accuracy: 0.7747 - val_false_pos: 0.6215 - val_false_neg: 0.0445\n",
      "Epoch 38/100\n",
      "50073/50073 [==============================] - 3s 68us/step - loss: 0.0560 - acc: 0.7646 - threshold_binary_accuracy: 0.7646 - false_pos: 0.6509 - false_neg: 0.0403 - val_loss: 0.1443 - val_acc: 0.7791 - val_threshold_binary_accuracy: 0.7791 - val_false_pos: 0.6017 - val_false_neg: 0.0473\n",
      "Epoch 39/100\n",
      "50073/50073 [==============================] - 3s 68us/step - loss: 0.0558 - acc: 0.7670 - threshold_binary_accuracy: 0.7670 - false_pos: 0.6418 - false_neg: 0.0418 - val_loss: 0.1491 - val_acc: 0.7656 - val_threshold_binary_accuracy: 0.7656 - val_false_pos: 0.6814 - val_false_neg: 0.0300\n",
      "Epoch 40/100\n",
      "50073/50073 [==============================] - 4s 70us/step - loss: 0.0561 - acc: 0.7652 - threshold_binary_accuracy: 0.7652 - false_pos: 0.6468 - false_neg: 0.0417 - val_loss: 0.1526 - val_acc: 0.7646 - val_threshold_binary_accuracy: 0.7646 - val_false_pos: 0.6839 - val_false_neg: 0.0304\n",
      "Epoch 41/100\n",
      "50073/50073 [==============================] - 4s 72us/step - loss: 0.0560 - acc: 0.7648 - threshold_binary_accuracy: 0.7648 - false_pos: 0.6513 - false_neg: 0.0405 - val_loss: 0.1489 - val_acc: 0.7636 - val_threshold_binary_accuracy: 0.7636 - val_false_pos: 0.6841 - val_false_neg: 0.0311\n",
      "Epoch 42/100\n",
      "50073/50073 [==============================] - 4s 70us/step - loss: 0.0559 - acc: 0.7656 - threshold_binary_accuracy: 0.7656 - false_pos: 0.6495 - false_neg: 0.0395 - val_loss: 0.1461 - val_acc: 0.7767 - val_threshold_binary_accuracy: 0.7767 - val_false_pos: 0.6147 - val_false_neg: 0.0446\n",
      "Epoch 43/100\n",
      "50073/50073 [==============================] - 3s 68us/step - loss: 0.0560 - acc: 0.7650 - threshold_binary_accuracy: 0.7650 - false_pos: 0.6488 - false_neg: 0.0411 - val_loss: 0.1530 - val_acc: 0.7625 - val_threshold_binary_accuracy: 0.7625 - val_false_pos: 0.6911 - val_false_neg: 0.0300\n",
      "Epoch 44/100\n",
      "50073/50073 [==============================] - 4s 71us/step - loss: 0.0560 - acc: 0.7658 - threshold_binary_accuracy: 0.7658 - false_pos: 0.6512 - false_neg: 0.0390 - val_loss: 0.1492 - val_acc: 0.7675 - val_threshold_binary_accuracy: 0.7675 - val_false_pos: 0.6684 - val_false_neg: 0.0327\n",
      "Epoch 45/100\n",
      "50073/50073 [==============================] - 3s 68us/step - loss: 0.0561 - acc: 0.7645 - threshold_binary_accuracy: 0.7645 - false_pos: 0.6527 - false_neg: 0.0398 - val_loss: 0.1581 - val_acc: 0.7557 - val_threshold_binary_accuracy: 0.7557 - val_false_pos: 0.7336 - val_false_neg: 0.0201\n",
      "Epoch 46/100\n",
      "50073/50073 [==============================] - 4s 70us/step - loss: 0.0561 - acc: 0.7648 - threshold_binary_accuracy: 0.7648 - false_pos: 0.6485 - false_neg: 0.0410 - val_loss: 0.1492 - val_acc: 0.7688 - val_threshold_binary_accuracy: 0.7688 - val_false_pos: 0.6663 - val_false_neg: 0.0321\n",
      "Epoch 47/100\n",
      "50073/50073 [==============================] - 3s 70us/step - loss: 0.0558 - acc: 0.7659 - threshold_binary_accuracy: 0.7659 - false_pos: 0.6521 - false_neg: 0.0395 - val_loss: 0.1525 - val_acc: 0.7635 - val_threshold_binary_accuracy: 0.7635 - val_false_pos: 0.6870 - val_false_neg: 0.0301\n",
      "Epoch 48/100\n",
      "50073/50073 [==============================] - 3s 68us/step - loss: 0.0562 - acc: 0.7648 - threshold_binary_accuracy: 0.7648 - false_pos: 0.6527 - false_neg: 0.0394 - val_loss: 0.1462 - val_acc: 0.7764 - val_threshold_binary_accuracy: 0.7764 - val_false_pos: 0.6264 - val_false_neg: 0.0399\n",
      "Epoch 49/100\n",
      "50073/50073 [==============================] - 3s 68us/step - loss: 0.0559 - acc: 0.7657 - threshold_binary_accuracy: 0.7657 - false_pos: 0.6443 - false_neg: 0.0420 - val_loss: 0.1527 - val_acc: 0.7603 - val_threshold_binary_accuracy: 0.7603 - val_false_pos: 0.7046 - val_false_neg: 0.0268\n",
      "Epoch 50/100\n",
      "50073/50073 [==============================] - 3s 69us/step - loss: 0.0559 - acc: 0.7656 - threshold_binary_accuracy: 0.7656 - false_pos: 0.6489 - false_neg: 0.0404 - val_loss: 0.1493 - val_acc: 0.7692 - val_threshold_binary_accuracy: 0.7692 - val_false_pos: 0.6612 - val_false_neg: 0.0337\n",
      "Epoch 51/100\n",
      " 1792/50073 [>.............................] - ETA: 2s - loss: 0.0558 - acc: 0.7623 - threshold_binary_accuracy: 0.7623 - false_pos: 0.6186 - false_neg: 0.0446"
     ]
    }
   ],
   "source": [
    "model2.fit(train_in, train_out, 64, 100, class_weight = class_weight, validation_data=(test_in, test_out))"
   ]
  },
  {
   "cell_type": "code",
   "execution_count": 15,
   "metadata": {},
   "outputs": [],
   "source": [
    "model2.save_weights(\"model.h5\")"
   ]
  },
  {
   "cell_type": "code",
   "execution_count": null,
   "metadata": {},
   "outputs": [],
   "source": []
  }
 ],
 "metadata": {
  "kernelspec": {
   "display_name": "Python 3",
   "language": "python",
   "name": "python3"
  },
  "language_info": {
   "codemirror_mode": {
    "name": "ipython",
    "version": 3
   },
   "file_extension": ".py",
   "mimetype": "text/x-python",
   "name": "python",
   "nbconvert_exporter": "python",
   "pygments_lexer": "ipython3",
   "version": "3.7.5"
  }
 },
 "nbformat": 4,
 "nbformat_minor": 2
}
